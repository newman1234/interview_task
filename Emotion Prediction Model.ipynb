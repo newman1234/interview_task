{
 "cells": [
  {
   "cell_type": "markdown",
   "metadata": {},
   "source": [
    "## Data preprocessing"
   ]
  },
  {
   "cell_type": "code",
   "execution_count": 1,
   "metadata": {},
   "outputs": [
    {
     "name": "stdout",
     "output_type": "stream",
     "text": [
      "Original data number: 3001.\n",
      "\n",
      "No score for some rows. Delete from all_text.\n",
      "[' ', '但人真的很多\\n']\n",
      "[' ', '问我们价格如何啊\\n']\n",
      "[' ', '钱包瘦身不少\\n']\n",
      "[' ', '虽然更迭了不少品牌\\n']\n",
      "[' ', '现在不去百货店了\\n']\n",
      "[' ', '中午白领吃饭什么的人很多的\\n']\n",
      "[' ', '还早杀到上海奥特莱斯\\n']\n",
      "[' ', '都还不错\\n']\n",
      "[' ', '小吃\\n']\n",
      "[' ', '就是逛逛\\n']\n",
      "[' ', '记得他结婚时也选择这个品牌\\n']\n",
      "[' ', '现在国金和世贸开出之后就比较少光顾了\\n']\n",
      "[' ', '经常和闺蜜去\\n']\n",
      "[' ', '没法经常去\\n']\n",
      "\n",
      "Preprocessing: score to int, text truncate \\n.\n",
      "Processed data number: 2987.\n"
     ]
    }
   ],
   "source": [
    "import numpy as np\n",
    "import pandas as pd\n",
    "import random\n",
    "import time\n",
    "import matplotlib.pyplot as plt\n",
    "import string\n",
    "import warnings\n",
    "warnings.filterwarnings('ignore')\n",
    "random.seed(12)\n",
    "%matplotlib inline\n",
    "\n",
    "#Open file\n",
    "f = open('Ch_trainfile_Sentiment_3000.txt')\n",
    "all_text = [line.split('\\t') for line in f.readlines()] # use tab to split\n",
    "all_text_processed = []\n",
    "print('Original data number: {}.'.format(len(all_text)))\n",
    "\n",
    "print('\\nNo score for some rows. Delete from all_text.')\n",
    "for line in all_text: # no score for some rows\n",
    "    if len(line[0])<2:\n",
    "        print(line)\n",
    "        \n",
    "print('\\nPreprocessing: score to int, text truncate \\\\n.')\n",
    "for score, text in all_text:\n",
    "    if score == ' ':\n",
    "        continue\n",
    "    else:\n",
    "        score = int(score)\n",
    "    text = text.split('\\n')[0]\n",
    "    for c in string.punctuation:\n",
    "        text = text.replace(c,'')\n",
    "    text = text.replace('、','')\n",
    "    all_text_processed.append((score, text))\n",
    "print('Processed data number: {}.'.format(len(all_text_processed)))"
   ]
  },
  {
   "cell_type": "markdown",
   "metadata": {},
   "source": [
    "## Segmentation for Chinese words"
   ]
  },
  {
   "cell_type": "code",
   "execution_count": 2,
   "metadata": {
    "scrolled": true
   },
   "outputs": [
    {
     "name": "stderr",
     "output_type": "stream",
     "text": [
      "Building prefix dict from the default dictionary ...\n",
      "Loading model from cache /var/folders/lt/fz9lkb516cx9lgtmq06_vh_00000gn/T/jieba.cache\n"
     ]
    },
    {
     "name": "stdout",
     "output_type": "stream",
     "text": [
      "Print first 100 cut results.\n"
     ]
    },
    {
     "name": "stderr",
     "output_type": "stream",
     "text": [
      "Loading model cost 0.995 seconds.\n",
      "Prefix dict has been built succesfully.\n"
     ]
    },
    {
     "name": "stdout",
     "output_type": "stream",
     "text": [
      "0 商场/几乎/都/没有/活动\n",
      "1 总体/感觉/蛮/好/的\n",
      "2 但是/货品/实在/不/咋/滴\n",
      "3 人/比较/少\n",
      "4 还是/贵/的\n",
      "5 女装/就/很少/啦\n",
      "6 还/不/知道/这家/会/不会/出现/呢\n",
      "7 去/龙之梦/购物/还是/一站式/蛮/方便/的\n",
      "8 那些/BA/ /也/一个个/死/人脸/一样\n",
      "9 但/唐宫/等位/要/有/耐心/哦\n",
      "10 整体/环境/不错\n",
      "11 主要/是/去/麦吉柯\n",
      "12 人/就/没少/过\n",
      "13 就是/布局/实在/是/不/喜欢\n",
      "14 没有/体力/是/一项/不能/完成/的/任务\n",
      "15 综合型/购物/商场\n",
      "16 已经/车位/停/了/超满\n",
      "17 一条龙/了\n",
      "18 其实/去/正大/的/次数/不/多\n",
      "19 夏天/的/时候/去过/奥/特莱斯\n",
      "20 以前/住/浦东/的/时候/经常/去逛\n",
      "21 就/吃/了/点/东西\n",
      "22 后面/的/大块/都/是/B/区\n",
      "23 人山人海\n",
      "24 是/个/休闲/的/好去处\n",
      "25 以前/比较/喜欢/在/5/楼/以上/吃饭\n",
      "26 商场/很大\n",
      "27 一般/去/百货公司\n",
      "28 大家/都/有/诸多/变化\n",
      "29 购物/也/很/方便\n",
      "30 对/不/太/逛得/人/来说/容易/迷路\n",
      "31 左右/两边/搞不清楚\n",
      "32 在/最/上面/几层/餐厅/非常/多\n",
      "33 很大\n",
      "34 周六/晚上/去/的\n",
      "35 品质/就/不用说/了\n",
      "36 失望/哒\n",
      "37 格局/还是/不错/的\n",
      "38 其他/店/都/没有/什么/顾客\n",
      "39 有/免费/停车场\n",
      "40 买过/几次/汗衫\n",
      "41 看/了/很多\n",
      "42 书店\n",
      "43 哥哥/说/不错/啊\n",
      "44 逛/的/最/多/的/大/商场/就是/这里/了\n",
      "45 谁/知道/真的假/的/呢\n",
      "46 感觉/有点/小\n",
      "47 而且/人暴/多\n",
      "48 非常/便捷/的/购物中心\n",
      "49 所以/姐妹/们/注意/了\n",
      "50 釜山/料理/豆捞坊/巴/贝拉\n",
      "51 有/电影院\n",
      "52 样子/也/不怎么样\n",
      "53 东西/很/便宜\n",
      "54 5/楼/吃/的/东东/挺/多\n",
      "55 认真/逛/一天/很难/逛/完/的\n",
      "56 综合性/商场\n",
      "57 先找/好/回去/的/车站\n",
      "58 于是/从那以后/对/正大/实在/有/阴影/ /也/不敢/去/了\n",
      "59 找/不到/想/找/的/地方\n",
      "60 尺码/少\n",
      "61 停车场/很大\n",
      "62 餐饮\n",
      "63 不过/价格/和/外国/的/折扣店/比/真是/差/很多/啊\n",
      "64 到/陆家嘴/么/正大/必须/要/晃/的\n",
      "65 东西/很多\n",
      "66 但是/能/挑/中/的/东西/真的/是/越来越少/了\n",
      "67 继续/关注\n",
      "68 喝\n",
      "69 打/下来/也/不/便宜\n",
      "70 逛/了/吃\n",
      "71 完全/靠/感觉\n",
      "72 t/啊\n",
      "73 没/去过/的/朋友/可以/多去/玩玩\n",
      "74 买/东西/品牌/也/比较/多/比较/全\n",
      "75 品种/很多\n",
      "76 人/也/够/多\n",
      "77 蔬菜/甜点/主食/面条\n",
      "78 关键/要/懂/挑选\n",
      "79 要不然/肯定/要/等/30/分钟/以上\n",
      "80 就/不太去/了\n",
      "81 是/个/购物/shopping/的/好/地方\n",
      "82 娱乐\n",
      "83 哈哈\n",
      "84 车子/很多/成片/的/摆放\n",
      "85 如果/商场/有些/很空/的/地方/再/多些/座位/让/人/坐坐/就/更好/了\n",
      "86 坐车/很/方便快捷\n",
      "87 但是/太远\n",
      "88 开始/去/就/奔/着/运动/品牌/的/鞋子/去/的\n",
      "89 特价/的/么/也/满/好额\n",
      "90 服务员/像/个/木头/无所适从\n",
      "91 东西/都/很/好吃\n",
      "92 地下室/的/易/初莲花/早已/更/改为/进口/超市\n",
      "93 买/了/年/卡\n",
      "94 一般/这里/的/衣服/都/是/名牌/的\n",
      "95 地方/很大\n",
      "96 不过/里面/的/东西/说实话/确实/有点/小贵\n",
      "97 下次/和/BF/一/起来/吃\n",
      "98 因为/商品/感脚/不是/太全\n",
      "99 早有/听说/龙之梦/购物中心/很/不错\n"
     ]
    }
   ],
   "source": [
    "import jieba\n",
    "\n",
    "word_set = set()\n",
    "all_text_seg = []\n",
    "i = 0\n",
    "N = 100\n",
    "FULL_MODE = False\n",
    "\n",
    "print('Print first {} cut results.'.format(N))\n",
    "for score, text in all_text_processed:\n",
    "    word_list = list(jieba.cut(text, cut_all=FULL_MODE))\n",
    "    if i < N:\n",
    "        print(i, '/'.join(word_list))\n",
    "    i += 1\n",
    "    all_text_seg.append((score, word_list))\n",
    "    word_set |= set(word_list)"
   ]
  },
  {
   "cell_type": "markdown",
   "metadata": {},
   "source": [
    "## Build X and y from data"
   ]
  },
  {
   "cell_type": "code",
   "execution_count": 3,
   "metadata": {},
   "outputs": [
    {
     "name": "stdout",
     "output_type": "stream",
     "text": [
      "(2987, 3370)\n",
      "(2987,)\n"
     ]
    }
   ],
   "source": [
    "X = []\n",
    "y = []\n",
    "for s, t in all_text_seg:\n",
    "    word_vector = []\n",
    "    y.append(s)\n",
    "    for w in word_set:\n",
    "        if w in t:\n",
    "            word_vector.append(1)\n",
    "        else:\n",
    "            word_vector.append(0)\n",
    "    X.append(word_vector)\n",
    "\n",
    "X = np.array(X).astype('float64')\n",
    "y = np.array(y).astype('float64')\n",
    "\n",
    "print(X.shape)\n",
    "print(y.shape)"
   ]
  },
  {
   "cell_type": "markdown",
   "metadata": {},
   "source": [
    "## Compare several SVM models with other classifiers"
   ]
  },
  {
   "cell_type": "code",
   "execution_count": 4,
   "metadata": {},
   "outputs": [
    {
     "name": "stdout",
     "output_type": "stream",
     "text": [
      "Nearest Neighbors starts.\n",
      "......Total runtime 131.08460807800293 seconds.\n",
      "Linear SVM starts.\n",
      "......Total runtime 2.6829848289489746 seconds.\n",
      "RBF SVM starts.\n",
      "......Total runtime 234.40552186965942 seconds.\n",
      "Decision Tree starts.\n",
      "......Total runtime 4.240596055984497 seconds.\n",
      "Random Forest starts.\n",
      "......Total runtime 3.3551571369171143 seconds.\n",
      "Neural Net starts.\n",
      "......Total runtime 119.40251898765564 seconds.\n",
      "AdaBoost starts.\n",
      "......Total runtime 33.73392987251282 seconds.\n",
      "Naive Bayes starts.\n",
      "......Total runtime 2.660814046859741 seconds.\n"
     ]
    }
   ],
   "source": [
    "from sklearn.preprocessing import StandardScaler, Normalizer\n",
    "from sklearn.linear_model import RidgeClassifier, SGDClassifier\n",
    "from sklearn.linear_model import Perceptron\n",
    "from sklearn.linear_model import PassiveAggressiveClassifier\n",
    "from sklearn.neural_network import MLPClassifier\n",
    "from sklearn.neighbors import KNeighborsClassifier, NearestCentroid\n",
    "from sklearn.svm import SVC, LinearSVC\n",
    "from sklearn.gaussian_process import GaussianProcessClassifier\n",
    "from sklearn.gaussian_process.kernels import RBF\n",
    "from sklearn.tree import DecisionTreeClassifier\n",
    "from sklearn.ensemble import RandomForestClassifier, AdaBoostClassifier\n",
    "from sklearn.naive_bayes import GaussianNB\n",
    "from sklearn.discriminant_analysis import QuadraticDiscriminantAnalysis\n",
    "from sklearn.model_selection import GridSearchCV, cross_val_score\n",
    "\n",
    "K = 5\n",
    "\n",
    "names = [\"Nearest Neighbors\", \"Linear SVM\", \"RBF SVM\",\n",
    "         \"Decision Tree\", \"Random Forest\", \"Neural Net\", \"AdaBoost\",\n",
    "         \"Naive Bayes\"]\n",
    "\n",
    "classifiers = [\n",
    "    KNeighborsClassifier(),\n",
    "    LinearSVC(),\n",
    "    SVC(),\n",
    "    DecisionTreeClassifier(),\n",
    "    RandomForestClassifier(),\n",
    "    MLPClassifier(),\n",
    "    AdaBoostClassifier(),\n",
    "    GaussianNB()]\n",
    "\n",
    "parameters = {\n",
    "    \"Nearest Neighbors\": {'n_neighbors':[1, 5, 10]},\n",
    "    \"Linear SVM\": {'C':[0.2, 1, 5]},\n",
    "    \"RBF SVM\": {'C':[0.2, 1, 5]},\n",
    "    \"Decision Tree\": {'max_depth':[5, 10]}, \n",
    "    \"Random Forest\": {'max_depth':[5, 10], 'n_estimators':[5, 10]}, \n",
    "    \"Neural Net\": {'alpha':[0.1, 1]}, \n",
    "    \"AdaBoost\": {'learning_rate':[0.1, 0.5, 1]},\n",
    "    \"Naive Bayes\": {}\n",
    "}\n",
    "\n",
    "best = []\n",
    "acc = []\n",
    "for name, clf in zip(names, classifiers):\n",
    "    print('{} starts.'.format(name))\n",
    "    st = time.time()\n",
    "    clf_gs = GridSearchCV(clf, parameters[name], cv=K, n_jobs=-1)\n",
    "    clf_gs.fit(X, y)\n",
    "    acc.append(clf_gs.best_score_)\n",
    "    best.append(clf_gs.best_estimator_)\n",
    "    # acc.append(np.mean(cross_val_score(clf, X, y, cv=K)))\n",
    "    print('......Total runtime {} seconds.'.format(time.time() - st))"
   ]
  },
  {
   "cell_type": "code",
   "execution_count": 5,
   "metadata": {},
   "outputs": [
    {
     "data": {
      "image/png": "[encoded data removed]",
      "text/plain": [
       "<matplotlib.figure.Figure at 0x1134a25f8>"
      ]
     },
     "metadata": {},
     "output_type": "display_data"
    }
   ],
   "source": [
    "# Plot feature importance\n",
    "fig = plt.figure(figsize=(12,12))\n",
    "# make importances relative to max importance\n",
    "sorted_idx = np.argsort(acc)\n",
    "pos = np.arange(sorted_idx.shape[0]) + .5\n",
    "acc = np.array(acc)\n",
    "plt.barh(pos, acc[sorted_idx], align='center')\n",
    "names = np.array(names)\n",
    "plt.yticks(pos, names[sorted_idx])\n",
    "plt.xlabel('Accuracy')\n",
    "plt.title('Classifier Comparison')\n",
    "plt.show()"
   ]
  },
  {
   "cell_type": "code",
   "execution_count": null,
   "metadata": {
    "collapsed": true
   },
   "outputs": [],
   "source": []
  }
 ],
 "metadata": {
  "kernelspec": {
   "display_name": "Python 3",
   "language": "python",
   "name": "python3"
  },
  "language_info": {
   "codemirror_mode": {
    "name": "ipython",
    "version": 3
   },
   "file_extension": ".py",
   "mimetype": "text/x-python",
   "name": "python",
   "nbconvert_exporter": "python",
   "pygments_lexer": "ipython3",
   "version": "3.5.2"
  }
 },
 "nbformat": 4,
 "nbformat_minor": 2
}
